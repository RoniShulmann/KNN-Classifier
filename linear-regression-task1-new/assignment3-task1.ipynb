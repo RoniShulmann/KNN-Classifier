{
 "cells": [
  {
   "cell_type": "code",
   "execution_count": 18,
   "id": "e1345b1b-071b-4853-b6d0-c732fd2284a8",
   "metadata": {},
   "outputs": [],
   "source": [
    "import numpy as np\n",
    "import pandas as pd\n",
    "import statsmodels.api as sm "
   ]
  },
  {
   "cell_type": "code",
   "execution_count": 19,
   "id": "22f46665-c9f0-40d0-97fb-55c11a0060e2",
   "metadata": {},
   "outputs": [
    {
     "name": "stdout",
     "output_type": "stream",
     "text": [
      "<class 'pandas.core.frame.DataFrame'>\n",
      "RangeIndex: 1250 entries, 0 to 1249\n",
      "Data columns (total 8 columns):\n",
      " #   Column    Non-Null Count  Dtype  \n",
      "---  ------    --------------  -----  \n",
      " 0   age       1250 non-null   int64  \n",
      " 1   gender    1250 non-null   object \n",
      " 2   bmi       1250 non-null   float64\n",
      " 3   weight    1250 non-null   float64\n",
      " 4   children  1250 non-null   int64  \n",
      " 5   smoker    1250 non-null   object \n",
      " 6   region    1250 non-null   object \n",
      " 7   expenses  1250 non-null   float64\n",
      "dtypes: float64(3), int64(2), object(3)\n",
      "memory usage: 78.2+ KB\n"
     ]
    }
   ],
   "source": [
    "df = pd.read_csv('insurance_data.csv')\n",
    "df.info()"
   ]
  },
  {
   "cell_type": "code",
   "execution_count": null,
   "id": "479584e7-c40f-4b18-8da1-fcdb0cd72f65",
   "metadata": {},
   "outputs": [],
   "source": [
    "# train a linear regression model to predict medical expenses (the last column) from other features\n",
    "\n",
    "# perform all your computations (solve the task) before the questions part, in a clear and effective manner\n",
    "# in the questions part only print answers based on your solution"
   ]
  },
  {
   "cell_type": "code",
   "execution_count": null,
   "id": "22966a19",
   "metadata": {},
   "outputs": [],
   "source": []
  },
  {
   "cell_type": "markdown",
   "id": "5fdc46eb-6745-496b-9f05-25da4f07fdb4",
   "metadata": {},
   "source": [
    "#### Questions (answer the quesitons, all computations should precede this part)"
   ]
  },
  {
   "cell_type": "markdown",
   "id": "3bf55d3b-5ab0-4a85-907a-265890678f32",
   "metadata": {},
   "source": [
    "#### Question 1"
   ]
  },
  {
   "cell_type": "code",
   "execution_count": null,
   "id": "0e334107-1631-4a06-a27f-74cfe0c64bea",
   "metadata": {},
   "outputs": [],
   "source": [
    "# did you remove any numerical predictor from the data?\n",
    "# if no - why, if yes - how did you decide on the predictor to remove?\n",
    "# print a short (one-sentence) answer using the print() command"
   ]
  },
  {
   "cell_type": "markdown",
   "id": "e8dcf249-0a7a-48e6-81dc-b8ffb578f286",
   "metadata": {},
   "source": [
    "#### Question 2"
   ]
  },
  {
   "cell_type": "code",
   "execution_count": null,
   "id": "aa4e2e3a-40af-41e6-a93f-c52c08e6d8c8",
   "metadata": {},
   "outputs": [],
   "source": [
    "# what is the amount of money a person is likely to spend on medical expenses with each additional year of age?\n",
    "# write here the value itself (hardcoded) based on your solution above\n",
    "# display your answer as a dataframe (as in assignment 2)"
   ]
  },
  {
   "cell_type": "markdown",
   "id": "bbc895f4-027e-47f9-b864-03ac5f0c7115",
   "metadata": {},
   "source": [
    "#### Question 3"
   ]
  },
  {
   "cell_type": "code",
   "execution_count": null,
   "id": "a2f20dcd-e1d1-4bdb-80ec-95ec821dd540",
   "metadata": {},
   "outputs": [],
   "source": [
    "# what predictors have a significant contribution to the medical expenses amount?\n",
    "# report only signifnicant (P<0.05) predictors sorted by their contribution to the prediction from highest to lowest,\n",
    "# where for each predictor you specify if it has a positive or a negative effect on the medical expenses\n",
    "\n",
    "# for categorical variables - specify the effect of individual values that show signfnicant (e.g., \"smoker-yes\", \"smoker-no\")\n",
    "\n",
    "# display your answer as a dataframe with two columns: (1) predictor, (2) effect (positive or negative)\n",
    "# no need to include the constant (b_0) value"
   ]
  }
 ],
 "metadata": {
  "kernelspec": {
   "display_name": "Python 3",
   "language": "python",
   "name": "python3"
  },
  "language_info": {
   "codemirror_mode": {
    "name": "ipython",
    "version": 3
   },
   "file_extension": ".py",
   "mimetype": "text/x-python",
   "name": "python",
   "nbconvert_exporter": "python",
   "pygments_lexer": "ipython3",
   "version": "3.8.10"
  },
  "vscode": {
   "interpreter": {
    "hash": "1813901ff6cc4165319fad5df854867949c64f2126016dcf6f7fa7a4d9be0dce"
   }
  }
 },
 "nbformat": 4,
 "nbformat_minor": 5
}
